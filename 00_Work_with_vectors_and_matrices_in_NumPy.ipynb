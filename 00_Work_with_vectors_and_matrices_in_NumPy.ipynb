{
 "cells": [
  {
   "cell_type": "code",
   "execution_count": 1,
   "metadata": {},
   "outputs": [],
   "source": [
    "import numpy as np"
   ]
  },
  {
   "cell_type": "code",
   "execution_count": 2,
   "metadata": {},
   "outputs": [
    {
     "name": "stdout",
     "output_type": "stream",
     "text": [
      "[[  4.77708299  -5.58872958  -9.38752618 ...,  -5.99546302 -11.28543996\n   -2.93373952]\n [  3.81672241 -12.5665225   -4.60344982 ...,  -0.6462159    1.03920534\n   -5.29892342]\n [ 13.1235719    7.27228301   3.04210846 ...,  -2.54070618   1.85391944\n   -6.27323723]\n ..., \n [ -5.44898229   0.25774713   8.63667427 ...,  -0.9109768   -7.88258476\n    8.37337829]\n [ 10.07663213  13.00792948   8.63383605 ...,  15.51490837 -12.60983086\n   15.05678614]\n [-13.65810886 -10.18376879  17.73032294 ...,  -2.27001897   7.9138699\n  -10.0645259 ]]\n"
     ]
    }
   ],
   "source": [
    "X = np.random.normal(loc=1, scale=10, size=(1000, 50))\n",
    "print X"
   ]
  },
  {
   "cell_type": "code",
   "execution_count": 3,
   "metadata": {},
   "outputs": [
    {
     "name": "stdout",
     "output_type": "stream",
     "text": [
      "[[ 0.3678741  -0.68127748 -1.00191247 ..., -0.66114241 -1.24536631\n  -0.39998994]\n [ 0.27179897 -1.36525752 -0.52290301 ..., -0.14550484  0.00621958\n  -0.64446975]\n [ 1.2028626   0.5793899   0.24261461 ..., -0.32812313  0.08895499\n  -0.74518076]\n ..., \n [-0.65514851 -0.10819178  0.80277498 ..., -0.17102632 -0.89980135\n   0.76878263]\n [ 0.89804465  1.14161175  0.8024908  ...,  1.41233732 -1.37986015\n   1.45962038]\n [-1.47639518 -1.13169427  1.7132838  ..., -0.30203039  0.70435189\n  -1.13707145]]\n"
     ]
    }
   ],
   "source": [
    "m = np.mean(X, axis=0)\n",
    "std = np.std(X, axis=0)\n",
    "X_norm = ((X - m)  / std)\n",
    "print X_norm"
   ]
  },
  {
   "cell_type": "code",
   "execution_count": 4,
   "metadata": {},
   "outputs": [],
   "source": [
    "Z = np.array([[4, 5, 0], \n",
    "             [1, 9, 3],              \n",
    "             [5, 1, 1],\n",
    "             [3, 3, 3], \n",
    "             [9, 9, 9], \n",
    "             [4, 7, 1]])\n",
    "r = np.sum(Z, axis=1)\n"
   ]
  },
  {
   "cell_type": "code",
   "execution_count": 5,
   "metadata": {},
   "outputs": [
    {
     "name": "stdout",
     "output_type": "stream",
     "text": [
      "(array([0, 2, 3]),)\n"
     ]
    }
   ],
   "source": [
    "print np.nonzero(r <= 9)"
   ]
  },
  {
   "cell_type": "code",
   "execution_count": 6,
   "metadata": {},
   "outputs": [
    {
     "name": "stdout",
     "output_type": "stream",
     "text": [
      "[[ 1.  0.  0.]\n [ 0.  1.  0.]\n [ 0.  0.  1.]]\n"
     ]
    }
   ],
   "source": [
    "A = np.eye(3)\n",
    "print A"
   ]
  },
  {
   "cell_type": "code",
   "execution_count": 7,
   "metadata": {},
   "outputs": [
    {
     "name": "stdout",
     "output_type": "stream",
     "text": [
      "[[ 1.  0.  0.]\n [ 0.  1.  0.]\n [ 0.  0.  1.]]\n"
     ]
    }
   ],
   "source": [
    "B = np.eye(3)\n",
    "print B"
   ]
  },
  {
   "cell_type": "code",
   "execution_count": 8,
   "metadata": {},
   "outputs": [
    {
     "name": "stdout",
     "output_type": "stream",
     "text": [
      "[[ 1.  0.  0.]\n [ 0.  1.  0.]\n [ 0.  0.  1.]\n [ 1.  0.  0.]\n [ 0.  1.  0.]\n [ 0.  0.  1.]]\n"
     ]
    }
   ],
   "source": [
    "AB = np.vstack((A, B))\n",
    "print AB"
   ]
  },
  {
   "cell_type": "code",
   "execution_count": 9,
   "metadata": {},
   "outputs": [],
   "source": []
  },
  {
   "cell_type": "code",
   "execution_count": 9,
   "metadata": {},
   "outputs": [],
   "source": []
  },
  {
   "cell_type": "code",
   "execution_count": null,
   "metadata": {},
   "outputs": [],
   "source": []
  }
 ],
 "metadata": {
  "kernelspec": {
   "display_name": "Python 2",
   "language": "python",
   "name": "python2"
  },
  "language_info": {
   "codemirror_mode": {
    "name": "ipython",
    "version": 2
   },
   "file_extension": ".py",
   "mimetype": "text/x-python",
   "name": "python",
   "nbconvert_exporter": "python",
   "pygments_lexer": "ipython2",
   "version": "2.7.12"
  }
 },
 "nbformat": 4,
 "nbformat_minor": 2
}
